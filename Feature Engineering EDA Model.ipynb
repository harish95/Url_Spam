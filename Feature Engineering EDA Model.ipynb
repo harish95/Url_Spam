{
 "cells": [
  {
   "cell_type": "code",
   "execution_count": 10,
   "id": "48317d44",
   "metadata": {},
   "outputs": [],
   "source": [
    "import pandas as pd\n",
    "import numpy as np\n",
    "\n",
    "pd.set_option('display.max_rows',None)"
   ]
  },
  {
   "cell_type": "code",
   "execution_count": 11,
   "id": "f78e1a78",
   "metadata": {},
   "outputs": [],
   "source": [
    "dt = pd.read_csv(\"./url_spam_classification.csv\")"
   ]
  },
  {
   "cell_type": "code",
   "execution_count": 12,
   "id": "8af89901",
   "metadata": {},
   "outputs": [
    {
     "name": "stdout",
     "output_type": "stream",
     "text": [
      "                                                 url  is_spam\n",
      "0  https://briefingday.us8.list-manage.com/unsubs...     True\n",
      "1                             https://www.hvper.com/     True\n",
      "2                 https://briefingday.com/m/v4n3i4f3     True\n",
      "3   https://briefingday.com/n/20200618/m#commentform    False\n",
      "4                        https://briefingday.com/fan     True\n",
      "(148303, 2)\n",
      "url        object\n",
      "is_spam      bool\n",
      "dtype: object\n",
      "url        0\n",
      "is_spam    0\n",
      "dtype: int64\n"
     ]
    }
   ],
   "source": [
    "print(dt.head())\n",
    "print(dt.shape)\n",
    "print(dt.dtypes)\n",
    "print(dt.isnull().sum())"
   ]
  },
  {
   "cell_type": "code",
   "execution_count": null,
   "id": "450dbcf8",
   "metadata": {},
   "outputs": [],
   "source": []
  },
  {
   "cell_type": "code",
   "execution_count": 13,
   "id": "a29da209",
   "metadata": {},
   "outputs": [],
   "source": [
    "## extracting data from URLs : Taking too much time\n",
    "#for u in dt.url:\n",
    "#    end = u.rfind(\"/\",3)\n",
    "#    start = u.rfind('.')\n",
    "#    dt[\"Domain\"] = u[start+1:end].split(\"/\")[0]"
   ]
  },
  {
   "cell_type": "code",
   "execution_count": 14,
   "id": "6cd8b086",
   "metadata": {},
   "outputs": [],
   "source": [
    "## Processed in 1 sec\n",
    "dt[\"Domain\"] = [u[u.rfind('.')+1:u.rfind(\"/\",3)].split(\"/\")[0] for u in dt.url]"
   ]
  },
  {
   "cell_type": "code",
   "execution_count": 15,
   "id": "57da6d40",
   "metadata": {},
   "outputs": [
    {
     "name": "stdout",
     "output_type": "stream",
     "text": [
      "433\n",
      "['com' 'edu' 'org' '' 'co' 'us' 'ca' 'net' 'blog' 'uk' 'com:443' 'io' 'fm'\n",
      " 'ai' 'cool' 'de' 'gov' 'mn' 'fyi' 'mp' 'tech' '0' 'nyc' 'Buolamwini'\n",
      " 'int' 'blue' 'dream' 'app' 'at' 'ru' 'woa' 'au' 'wtf' 'tv' 'php' 'google'\n",
      " 'eu' 'dk' 'show' 'to' 'gold' 'nl' 'xyz' 'dev' 'me' 'djvu' 'jp'\n",
      " 'photography' 'club' 'sa' 'fr' 'world' 'is' '32881' 'commission#!'\n",
      " 'agency' 'it' 'biz' 'ski' 'info' 'computer' 'london' 'cc' 'in' 'ee'\n",
      " 'coffee' 'one' 'design' 'space' 'so' 'farm' 'link' 'vu' '1093' 'cfm' 'nz'\n",
      " 'law' 'sg' 'land' 'plus' 'rip' 'hr' 'bid' 'af' 'ml' 'haus' 'ly' 'no'\n",
      " 'idg' 'earth' 'ch' 'media' 'work' '1l2x' '1m8h' '1kxw' 'institute'\n",
      " 'website' 'pm' 'school' 'page' 'audio' '2019' 'email' 'style' '1htx' 'hu'\n",
      " 'vc' '1m4n' '1k19' '1' '1k3b' 'news' 'tube' '1h1c' 'pdf' '1hvq' 'supply'\n",
      " '0_release_announcement' 'ht' 'codes' 'be' 'st' 'site' 'gg' 'camera'\n",
      " 'lol' 're' 'watch' 'html' 'museum' '1nav' 'han' 'cnn' '1sdb' 'am' 'gd'\n",
      " 'bureau#!' '1kyg' 'house' 'life' '1err' '9669344,15z' 'brown' '9y4'\n",
      " '1e6e' 'oxford-council-pays-homeless-accommodation-another-year' '23t9'\n",
      " 'social' 'za' 'do' 'rocks' 'rs' 'fun' '1mf0' 'freeguard' 'digital' 'es'\n",
      " '21yf' 'solokub' '1i1v' 'community' '1dqv' 'kr' 'ws' '1m7w' 'pattison'\n",
      " 'fit' '1ph6' 'com:80' 'shop' '1fsc' 'pk' '1oue' 'team' 'how' '1iv9'\n",
      " 'yegge' '1mrt' '1nbv' 'li' '8-mil' '1pka' '5a19812' '1y36' 'xkcd'\n",
      " 'realtor' '1qug' 'wales' 'br' 'store' 'princessa' '69' '1m8d' 'horse'\n",
      " '1efd' 'coop' 'na' 'center' '1tn5' '1gdr' 'youtube' 'ae' 'us:8123' 'se'\n",
      " '1r5y' 'press' '1nkv' 'ink' '1kyw' 'new' 'md' 'software' '1u7z' '1koc'\n",
      " '1oqg' '1djj' 'city' '1fk1' 'fi' '1nk2' 'global' 'technology' 'sh' 'town'\n",
      " 'online' 'by' 'wsz' '1gqs' 'art' 'im' 'college' 'live' '1vzu' 'ie' '1mqj'\n",
      " 'juice' 'cern' '1w20' '1oo6' 'il' 'foundation' 'scot' 'cnn-business'\n",
      " '1ojo' '1ehx' '1fjr' '1wqi' 'zone' '1upl' '1gag' 'ge' 'bb' '229f'\n",
      " 'company' '1sn5' 'vote' 'ma' 'gs' '215e' '1vrs' 'jobs' '1fy6' 'studio'\n",
      " 'la' '1jeb' 'cgi' '215d' '1wwj' 'mobi' '2dsl' 'ooo'\n",
      " 'only-nhs-access-snp-insists-amazon-not-getting-data-million-users-scotlands-test-protect-app'\n",
      " '17tt' '1kyq' 'pw' 'photo' '15mz' '1u8d' 'works' '1428193' '1007'\n",
      " 'navarose' 'rod' 'menand' '1rzr' 'engineering' '1r43' '1wwk' 'pl' 'al'\n",
      " 'ms' 'video' 'o' '1mxa' '1ujz' '63903' 'black' 'cafe' '1gzl' 'energy'\n",
      " 'nu' '26g3' '13yv' '1it4' '2esw' 'name' 'my' '1urk' 'tw' '1ryn' 'mil'\n",
      " '1yfq' '1sc2' '1kuv' 'bg' '17sf' 'barce' 'wiki' '1t1l' '1582355' 'guru'\n",
      " 'africa' 'clothing' '1wwi' '1y1q' '20ni' '1s9q' '21j0' '1hu5' 'games'\n",
      " 'pizza' 'aspx' 'win' 'ng' '1vcr' 'red' 'cx' 'js' '1h2c' 'cat' '1t1b'\n",
      " '1xny' 'academy' '1nig' '8' '1276908,15z' 'coach' '1w4d' '21wd' '1s5v'\n",
      " 'ovh' '1ed9' '1t9r' 'bz' '1i81' '1oag' 'today' '1vc3' '1smk' '1m2p' 'bio'\n",
      " '777778%2C$width_1059%2C$x_0%2C$y_0'\n",
      " '776846%2C$width_1059%2C$x_717%2C$y_456' 'ar' 'jp:443' '1syd' '1nm1'\n",
      " '1qv6' 'frank31'\n",
      " 'fake-journalist-fined-publishing-stories-copied-northern-echo' '1jd0'\n",
      " '1i7s' '1lat' 'baby' 'berlin' 'a381498' '1t0i' '1htb' '1rhe' '1vcb' 'run'\n",
      " '1u5s' '1j03' '703' '1jrw' 'cam' 'dog' 'nf' 'rent' 'guide' 'asia' '5169'\n",
      " '1py4' '1k6b' '1t1p' 'shapiro' 'science' 'bo' 'pt' '6661202,107m' '2000'\n",
      " 'share' 'pro' 'drm' '1kwf' '1xol' '1pyt' 'wine' '1i90' 'miami' '1m3v'\n",
      " '1piu' 'radio' 'lt' 'christmas' 'haven' '1sa1' '1mvj' '1x8m' '1w4s'\n",
      " '1kk2' 'careers' '1k47' 'mafloy' '1111' '1hgy' 'tr' 'photos' 'chat' 'cn'\n",
      " '21ll' '1hgu']\n"
     ]
    }
   ],
   "source": [
    "print(dt[\"Domain\"].nunique())\n",
    "print(dt[\"Domain\"].unique())"
   ]
  },
  {
   "cell_type": "code",
   "execution_count": 16,
   "id": "077e2cc0",
   "metadata": {},
   "outputs": [
    {
     "name": "stdout",
     "output_type": "stream",
     "text": [
      "                                         url  is_spam Domain\n",
      "24412          https://getaway.house/booking    False  house\n",
      "144252  https://thebrick.house/dear-readers/    False  house\n",
      "                                                      url  is_spam Domain\n",
      "146915  https://www.aa.com.tr/en/politics/turkey-s-pos...    False     tr\n"
     ]
    }
   ],
   "source": [
    "## checking random domains\n",
    "print(dt[dt[\"Domain\"]==\"house\"])\n",
    "print(dt[dt[\"Domain\"]==\"tr\"])"
   ]
  },
  {
   "cell_type": "code",
   "execution_count": 17,
   "id": "752eb6cc",
   "metadata": {},
   "outputs": [],
   "source": [
    "#dt[\"Domain\"].value_counts()\n",
    "## Renaming domains\n",
    "doms = [\"com\",\" \",\"org\",\"co\",\"io\",\"mp\",\"uk\",\"net\",\"fm\",\"edu\",\"gov\"]\n",
    "dt[\"Domain_grp\"] = [u if u in doms else \"other\" for u in dt[\"Domain\"]]"
   ]
  },
  {
   "cell_type": "code",
   "execution_count": 18,
   "id": "6b1a690a",
   "metadata": {},
   "outputs": [
    {
     "data": {
      "text/html": [
       "<div>\n",
       "<style scoped>\n",
       "    .dataframe tbody tr th:only-of-type {\n",
       "        vertical-align: middle;\n",
       "    }\n",
       "\n",
       "    .dataframe tbody tr th {\n",
       "        vertical-align: top;\n",
       "    }\n",
       "\n",
       "    .dataframe thead th {\n",
       "        text-align: right;\n",
       "    }\n",
       "</style>\n",
       "<table border=\"1\" class=\"dataframe\">\n",
       "  <thead>\n",
       "    <tr style=\"text-align: right;\">\n",
       "      <th></th>\n",
       "      <th>url</th>\n",
       "      <th>is_spam</th>\n",
       "      <th>Domain</th>\n",
       "      <th>Domain_grp</th>\n",
       "    </tr>\n",
       "  </thead>\n",
       "  <tbody>\n",
       "    <tr>\n",
       "      <th>0</th>\n",
       "      <td>https://briefingday.us8.list-manage.com/unsubs...</td>\n",
       "      <td>True</td>\n",
       "      <td>com</td>\n",
       "      <td>com</td>\n",
       "    </tr>\n",
       "    <tr>\n",
       "      <th>1</th>\n",
       "      <td>https://www.hvper.com/</td>\n",
       "      <td>True</td>\n",
       "      <td>com</td>\n",
       "      <td>com</td>\n",
       "    </tr>\n",
       "    <tr>\n",
       "      <th>2</th>\n",
       "      <td>https://briefingday.com/m/v4n3i4f3</td>\n",
       "      <td>True</td>\n",
       "      <td>com</td>\n",
       "      <td>com</td>\n",
       "    </tr>\n",
       "    <tr>\n",
       "      <th>3</th>\n",
       "      <td>https://briefingday.com/n/20200618/m#commentform</td>\n",
       "      <td>False</td>\n",
       "      <td>com</td>\n",
       "      <td>com</td>\n",
       "    </tr>\n",
       "    <tr>\n",
       "      <th>4</th>\n",
       "      <td>https://briefingday.com/fan</td>\n",
       "      <td>True</td>\n",
       "      <td>com</td>\n",
       "      <td>com</td>\n",
       "    </tr>\n",
       "  </tbody>\n",
       "</table>\n",
       "</div>"
      ],
      "text/plain": [
       "                                                 url  is_spam Domain  \\\n",
       "0  https://briefingday.us8.list-manage.com/unsubs...     True    com   \n",
       "1                             https://www.hvper.com/     True    com   \n",
       "2                 https://briefingday.com/m/v4n3i4f3     True    com   \n",
       "3   https://briefingday.com/n/20200618/m#commentform    False    com   \n",
       "4                        https://briefingday.com/fan     True    com   \n",
       "\n",
       "  Domain_grp  \n",
       "0        com  \n",
       "1        com  \n",
       "2        com  \n",
       "3        com  \n",
       "4        com  "
      ]
     },
     "execution_count": 18,
     "metadata": {},
     "output_type": "execute_result"
    }
   ],
   "source": [
    "dt.head()"
   ]
  },
  {
   "cell_type": "code",
   "execution_count": 19,
   "id": "1796bac9",
   "metadata": {},
   "outputs": [],
   "source": [
    "## Creating length\n",
    "dt[\"url_length\"] = [len(u) for u in dt.url]"
   ]
  },
  {
   "cell_type": "code",
   "execution_count": 20,
   "id": "6d9c59d5",
   "metadata": {},
   "outputs": [],
   "source": [
    "dt[\"IS_subscribe\"] = [1 if 'subscribe' in u else 0 for u in dt.url ]"
   ]
  },
  {
   "cell_type": "code",
   "execution_count": 21,
   "id": "187e8849",
   "metadata": {},
   "outputs": [],
   "source": [
    "dt[\"IS_hash\"] = [1 if '#' in u else 0 for u in dt.url]"
   ]
  },
  {
   "cell_type": "code",
   "execution_count": 22,
   "id": "d3e56e8a",
   "metadata": {},
   "outputs": [],
   "source": [
    "dt[\"IS_www\"] = [1 if 'www' in u else 0 for u in dt.url]"
   ]
  },
  {
   "cell_type": "code",
   "execution_count": 23,
   "id": "2e804c44",
   "metadata": {},
   "outputs": [],
   "source": [
    "dt[\"IS_https\"] = [1 if 'https' in u else 0 for u in dt.url]"
   ]
  },
  {
   "cell_type": "code",
   "execution_count": 24,
   "id": "40a2a875",
   "metadata": {},
   "outputs": [],
   "source": [
    "dt[\"word_count\"] = [len(u.split(\"/\")) for u in dt.url]"
   ]
  },
  {
   "cell_type": "code",
   "execution_count": 25,
   "id": "aa6e2749",
   "metadata": {},
   "outputs": [],
   "source": [
    "dt.drop(columns=['url','Domain'],inplace=True)"
   ]
  },
  {
   "cell_type": "markdown",
   "id": "75425d8f",
   "metadata": {},
   "source": [
    "#### Feature engineering is complete"
   ]
  },
  {
   "cell_type": "markdown",
   "id": "449ed970",
   "metadata": {},
   "source": [
    "## Starting with EDA"
   ]
  },
  {
   "cell_type": "code",
   "execution_count": 26,
   "id": "9725c87c",
   "metadata": {},
   "outputs": [],
   "source": [
    "import matplotlib.pyplot as plt\n",
    "import seaborn as sns\n",
    "%matplotlib inline\n",
    "sns.set_theme(style=\"darkgrid\")"
   ]
  },
  {
   "cell_type": "code",
   "execution_count": 27,
   "id": "91882346",
   "metadata": {},
   "outputs": [
    {
     "data": {
      "text/plain": [
       "<AxesSubplot:xlabel='url_length', ylabel='Density'>"
      ]
     },
     "execution_count": 27,
     "metadata": {},
     "output_type": "execute_result"
    },
    {
     "data": {
      "image/png": "[encoded data removed]",
      "text/plain": [
       "<Figure size 720x504 with 1 Axes>"
      ]
     },
     "metadata": {},
     "output_type": "display_data"
    }
   ],
   "source": [
    "plt.figure(figsize=[10,7])\n",
    "sns.kdeplot(data=dt,x=\"url_length\",hue=\"is_spam\",multiple='stack')"
   ]
  },
  {
   "cell_type": "markdown",
   "id": "95a462e3",
   "metadata": {},
   "source": [
    "more spams are there for short url length"
   ]
  },
  {
   "cell_type": "code",
   "execution_count": 28,
   "id": "6c96e6ed",
   "metadata": {},
   "outputs": [
    {
     "data": {
      "text/plain": [
       "<AxesSubplot:xlabel='word_count', ylabel='is_spam'>"
      ]
     },
     "execution_count": 28,
     "metadata": {},
     "output_type": "execute_result"
    },
    {
     "data": {
      "image/png": "[encoded data removed]",
      "text/plain": [
       "<Figure size 432x288 with 1 Axes>"
      ]
     },
     "metadata": {},
     "output_type": "display_data"
    }
   ],
   "source": [
    "sns.barplot(data=dt,x=\"word_count\",y=\"is_spam\")"
   ]
  },
  {
   "cell_type": "code",
   "execution_count": 29,
   "id": "06c9ef34",
   "metadata": {},
   "outputs": [
    {
     "data": {
      "text/plain": [
       "<seaborn.axisgrid.FacetGrid at 0x2c1a3ffb520>"
      ]
     },
     "execution_count": 29,
     "metadata": {},
     "output_type": "execute_result"
    },
    {
     "data": {
      "text/plain": [
       "<Figure size 504x288 with 0 Axes>"
      ]
     },
     "metadata": {},
     "output_type": "display_data"
    },
    {
     "data": {
      "image/png": "[encoded data removed]",
      "text/plain": [
       "<Figure size 4026.35x360 with 11 Axes>"
      ]
     },
     "metadata": {},
     "output_type": "display_data"
    }
   ],
   "source": [
    "plt.figure(figsize=[7,4])\n",
    "#plt.subplot2grid([3,4])\n",
    "sns.displot(data=dt, x=\"url_length\", hue=\"is_spam\", col=\"Domain_grp\")"
   ]
  },
  {
   "cell_type": "code",
   "execution_count": null,
   "id": "f9673c69",
   "metadata": {},
   "outputs": [],
   "source": []
  },
  {
   "cell_type": "code",
   "execution_count": 30,
   "id": "96d164a3",
   "metadata": {},
   "outputs": [],
   "source": [
    "## Building model"
   ]
  },
  {
   "cell_type": "code",
   "execution_count": 49,
   "id": "41d88b93",
   "metadata": {},
   "outputs": [],
   "source": [
    "from sklearn.ensemble import RandomForestClassifier\n",
    "from sklearn.linear_model import LogisticRegression\n",
    "from sklearn.neighbors import KNeighborsClassifier\n",
    "from sklearn.model_selection import train_test_split\n",
    "from sklearn.metrics import accuracy_score, classification_report,confusion_matrix"
   ]
  },
  {
   "cell_type": "code",
   "execution_count": 42,
   "id": "17db1161",
   "metadata": {},
   "outputs": [
    {
     "data": {
      "text/html": [
       "<div>\n",
       "<style scoped>\n",
       "    .dataframe tbody tr th:only-of-type {\n",
       "        vertical-align: middle;\n",
       "    }\n",
       "\n",
       "    .dataframe tbody tr th {\n",
       "        vertical-align: top;\n",
       "    }\n",
       "\n",
       "    .dataframe thead th {\n",
       "        text-align: right;\n",
       "    }\n",
       "</style>\n",
       "<table border=\"1\" class=\"dataframe\">\n",
       "  <thead>\n",
       "    <tr style=\"text-align: right;\">\n",
       "      <th></th>\n",
       "      <th>is_spam</th>\n",
       "      <th>Domain_grp</th>\n",
       "      <th>url_length</th>\n",
       "      <th>IS_subscribe</th>\n",
       "      <th>IS_hash</th>\n",
       "      <th>IS_www</th>\n",
       "      <th>IS_https</th>\n",
       "      <th>word_count</th>\n",
       "    </tr>\n",
       "  </thead>\n",
       "  <tbody>\n",
       "    <tr>\n",
       "      <th>0</th>\n",
       "      <td>1</td>\n",
       "      <td>0</td>\n",
       "      <td>51</td>\n",
       "      <td>1</td>\n",
       "      <td>0</td>\n",
       "      <td>0</td>\n",
       "      <td>1</td>\n",
       "      <td>4</td>\n",
       "    </tr>\n",
       "    <tr>\n",
       "      <th>1</th>\n",
       "      <td>1</td>\n",
       "      <td>0</td>\n",
       "      <td>22</td>\n",
       "      <td>0</td>\n",
       "      <td>0</td>\n",
       "      <td>1</td>\n",
       "      <td>1</td>\n",
       "      <td>4</td>\n",
       "    </tr>\n",
       "    <tr>\n",
       "      <th>2</th>\n",
       "      <td>1</td>\n",
       "      <td>0</td>\n",
       "      <td>34</td>\n",
       "      <td>0</td>\n",
       "      <td>0</td>\n",
       "      <td>0</td>\n",
       "      <td>1</td>\n",
       "      <td>5</td>\n",
       "    </tr>\n",
       "    <tr>\n",
       "      <th>3</th>\n",
       "      <td>0</td>\n",
       "      <td>0</td>\n",
       "      <td>48</td>\n",
       "      <td>0</td>\n",
       "      <td>1</td>\n",
       "      <td>0</td>\n",
       "      <td>1</td>\n",
       "      <td>6</td>\n",
       "    </tr>\n",
       "    <tr>\n",
       "      <th>4</th>\n",
       "      <td>1</td>\n",
       "      <td>0</td>\n",
       "      <td>27</td>\n",
       "      <td>0</td>\n",
       "      <td>0</td>\n",
       "      <td>0</td>\n",
       "      <td>1</td>\n",
       "      <td>4</td>\n",
       "    </tr>\n",
       "  </tbody>\n",
       "</table>\n",
       "</div>"
      ],
      "text/plain": [
       "   is_spam  Domain_grp  url_length  IS_subscribe  IS_hash  IS_www  IS_https  \\\n",
       "0        1           0          51             1        0       0         1   \n",
       "1        1           0          22             0        0       1         1   \n",
       "2        1           0          34             0        0       0         1   \n",
       "3        0           0          48             0        1       0         1   \n",
       "4        1           0          27             0        0       0         1   \n",
       "\n",
       "   word_count  \n",
       "0           4  \n",
       "1           4  \n",
       "2           5  \n",
       "3           6  \n",
       "4           4  "
      ]
     },
     "execution_count": 42,
     "metadata": {},
     "output_type": "execute_result"
    }
   ],
   "source": [
    "dt.head()"
   ]
  },
  {
   "cell_type": "code",
   "execution_count": 33,
   "id": "dff0468d",
   "metadata": {},
   "outputs": [],
   "source": [
    "## replace True/False with 1 & 0\n",
    "dt[\"is_spam\"] = dt[\"is_spam\"].map({True:1,False:0})"
   ]
  },
  {
   "cell_type": "code",
   "execution_count": 41,
   "id": "4c749d0e",
   "metadata": {},
   "outputs": [],
   "source": [
    "## Convering Domain Group in numerical variable\n",
    "domain_codes = {\"com\":0,\" \":1,\"org\":2,\"co\":3,\"io\":4,\"mp\":5,\"uk\":6,\"net\":7,\"fm\":8,\"edu\":9,\"gov\":10,\"other\":11}\n",
    "\n",
    "dt.Domain_grp = dt.Domain_grp.map(domain_codes)"
   ]
  },
  {
   "cell_type": "code",
   "execution_count": 43,
   "id": "cc1fde6a",
   "metadata": {},
   "outputs": [],
   "source": [
    "# splitting train and test data\n",
    "Y = dt[\"is_spam\"]\n",
    "x = dt.drop(columns=['is_spam'])"
   ]
  },
  {
   "cell_type": "code",
   "execution_count": 45,
   "id": "40cf2c98",
   "metadata": {},
   "outputs": [
    {
     "data": {
      "text/html": [
       "<div>\n",
       "<style scoped>\n",
       "    .dataframe tbody tr th:only-of-type {\n",
       "        vertical-align: middle;\n",
       "    }\n",
       "\n",
       "    .dataframe tbody tr th {\n",
       "        vertical-align: top;\n",
       "    }\n",
       "\n",
       "    .dataframe thead th {\n",
       "        text-align: right;\n",
       "    }\n",
       "</style>\n",
       "<table border=\"1\" class=\"dataframe\">\n",
       "  <thead>\n",
       "    <tr style=\"text-align: right;\">\n",
       "      <th></th>\n",
       "      <th>Domain_grp</th>\n",
       "      <th>url_length</th>\n",
       "      <th>IS_subscribe</th>\n",
       "      <th>IS_hash</th>\n",
       "      <th>IS_www</th>\n",
       "      <th>IS_https</th>\n",
       "      <th>word_count</th>\n",
       "    </tr>\n",
       "  </thead>\n",
       "  <tbody>\n",
       "    <tr>\n",
       "      <th>0</th>\n",
       "      <td>0</td>\n",
       "      <td>51</td>\n",
       "      <td>1</td>\n",
       "      <td>0</td>\n",
       "      <td>0</td>\n",
       "      <td>1</td>\n",
       "      <td>4</td>\n",
       "    </tr>\n",
       "    <tr>\n",
       "      <th>1</th>\n",
       "      <td>0</td>\n",
       "      <td>22</td>\n",
       "      <td>0</td>\n",
       "      <td>0</td>\n",
       "      <td>1</td>\n",
       "      <td>1</td>\n",
       "      <td>4</td>\n",
       "    </tr>\n",
       "    <tr>\n",
       "      <th>2</th>\n",
       "      <td>0</td>\n",
       "      <td>34</td>\n",
       "      <td>0</td>\n",
       "      <td>0</td>\n",
       "      <td>0</td>\n",
       "      <td>1</td>\n",
       "      <td>5</td>\n",
       "    </tr>\n",
       "    <tr>\n",
       "      <th>3</th>\n",
       "      <td>0</td>\n",
       "      <td>48</td>\n",
       "      <td>0</td>\n",
       "      <td>1</td>\n",
       "      <td>0</td>\n",
       "      <td>1</td>\n",
       "      <td>6</td>\n",
       "    </tr>\n",
       "    <tr>\n",
       "      <th>4</th>\n",
       "      <td>0</td>\n",
       "      <td>27</td>\n",
       "      <td>0</td>\n",
       "      <td>0</td>\n",
       "      <td>0</td>\n",
       "      <td>1</td>\n",
       "      <td>4</td>\n",
       "    </tr>\n",
       "  </tbody>\n",
       "</table>\n",
       "</div>"
      ],
      "text/plain": [
       "   Domain_grp  url_length  IS_subscribe  IS_hash  IS_www  IS_https  word_count\n",
       "0           0          51             1        0       0         1           4\n",
       "1           0          22             0        0       1         1           4\n",
       "2           0          34             0        0       0         1           5\n",
       "3           0          48             0        1       0         1           6\n",
       "4           0          27             0        0       0         1           4"
      ]
     },
     "execution_count": 45,
     "metadata": {},
     "output_type": "execute_result"
    }
   ],
   "source": [
    "x.head()"
   ]
  },
  {
   "cell_type": "code",
   "execution_count": 46,
   "id": "8c98fa60",
   "metadata": {},
   "outputs": [],
   "source": [
    "X_train, X_test, y_train, y_test = train_test_split(x,Y,test_size=0.2)"
   ]
  },
  {
   "cell_type": "code",
   "execution_count": 50,
   "id": "9e706ede",
   "metadata": {},
   "outputs": [],
   "source": [
    "## Fitting various models\n",
    "rf = RandomForestClassifier()\n",
    "lr = LogisticRegression()\n",
    "knn = KNeighborsClassifier()"
   ]
  },
  {
   "cell_type": "code",
   "execution_count": 51,
   "id": "83347a75",
   "metadata": {},
   "outputs": [
    {
     "name": "stderr",
     "output_type": "stream",
     "text": [
      "C:\\Users\\haris\\anaconda3\\lib\\site-packages\\sklearn\\linear_model\\_logistic.py:763: ConvergenceWarning: lbfgs failed to converge (status=1):\n",
      "STOP: TOTAL NO. of ITERATIONS REACHED LIMIT.\n",
      "\n",
      "Increase the number of iterations (max_iter) or scale the data as shown in:\n",
      "    https://scikit-learn.org/stable/modules/preprocessing.html\n",
      "Please also refer to the documentation for alternative solver options:\n",
      "    https://scikit-learn.org/stable/modules/linear_model.html#logistic-regression\n",
      "  n_iter_i = _check_optimize_result(\n"
     ]
    },
    {
     "data": {
      "text/plain": [
       "KNeighborsClassifier()"
      ]
     },
     "execution_count": 51,
     "metadata": {},
     "output_type": "execute_result"
    }
   ],
   "source": [
    "rf.fit(X_train,y_train)\n",
    "lr.fit(X_train,y_train)\n",
    "knn.fit(X_train,y_train)"
   ]
  },
  {
   "cell_type": "code",
   "execution_count": 52,
   "id": "159412f7",
   "metadata": {},
   "outputs": [],
   "source": [
    "rf_pred = rf.predict(X_test)\n",
    "lr_pred = lr.predict(X_test)\n",
    "knn_pred = knn.predict(X_test)"
   ]
  },
  {
   "cell_type": "code",
   "execution_count": 55,
   "id": "d83bbda9",
   "metadata": {},
   "outputs": [
    {
     "name": "stdout",
     "output_type": "stream",
     "text": [
      "Random Forest Accuracy:  0.8794713596979198\n",
      "Logistic Regression Accuracy:  0.7655170088668622\n",
      "Knn accuracy:  0.8569164896665655\n"
     ]
    }
   ],
   "source": [
    "## Model selection\n",
    "print(\"Random Forest Accuracy: \",accuracy_score(y_test,rf_pred))\n",
    "print(\"Logistic Regression Accuracy: \",accuracy_score(y_test,lr_pred))\n",
    "print(\"Knn accuracy: \",accuracy_score(y_test,knn_pred))"
   ]
  },
  {
   "cell_type": "code",
   "execution_count": 66,
   "id": "af7f20bf",
   "metadata": {},
   "outputs": [
    {
     "data": {
      "text/plain": [
       "<AxesSubplot:>"
      ]
     },
     "execution_count": 66,
     "metadata": {},
     "output_type": "execute_result"
    },
    {
     "data": {
      "image/png": "[encoded data removed]",
      "text/plain": [
       "<Figure size 504x288 with 1 Axes>"
      ]
     },
     "metadata": {},
     "output_type": "display_data"
    }
   ],
   "source": []
  },
  {
   "cell_type": "markdown",
   "id": "afbf0e22",
   "metadata": {},
   "source": [
    "### Random Forest and KNN giving higher accuracy"
   ]
  },
  {
   "cell_type": "code",
   "execution_count": 62,
   "id": "050fbab5",
   "metadata": {},
   "outputs": [
    {
     "name": "stdout",
     "output_type": "stream",
     "text": [
      "knnV2 Accuracy:  0.8549947742827282\n",
      "              precision    recall  f1-score   support\n",
      "\n",
      "           0       0.90      0.88      0.89     20260\n",
      "           1       0.76      0.79      0.78      9401\n",
      "\n",
      "    accuracy                           0.85     29661\n",
      "   macro avg       0.83      0.84      0.83     29661\n",
      "weighted avg       0.86      0.85      0.86     29661\n",
      "\n"
     ]
    }
   ],
   "source": [
    "## Doing model selection for KNN\n",
    "\n",
    "knn_v2 = KNeighborsClassifier(n_neighbors=3)\n",
    "knn_v2.fit(X_train,y_train)\n",
    "knn_V2_pred = knn_v2.predict(X_test)\n",
    "print(\"knnV2 Accuracy: \",accuracy_score(y_test,knn_V2_pred))\n",
    "print(classification_report(y_test,knn_V2_pred))"
   ]
  },
  {
   "cell_type": "code",
   "execution_count": 67,
   "id": "1fa9014e",
   "metadata": {},
   "outputs": [
    {
     "data": {
      "text/plain": [
       "<AxesSubplot:>"
      ]
     },
     "execution_count": 67,
     "metadata": {},
     "output_type": "execute_result"
    },
    {
     "data": {
      "image/png": "[encoded data removed]",
      "text/plain": [
       "<Figure size 504x288 with 1 Axes>"
      ]
     },
     "metadata": {},
     "output_type": "display_data"
    }
   ],
   "source": [
    "#print(rf.feature_importances_,X_train.columns)\n",
    "plt.figure(figsize=[7,4])\n",
    "sns.barplot(x=X_train.columns,y=rf.feature_importances_)"
   ]
  },
  {
   "cell_type": "code",
   "execution_count": 70,
   "id": "da9edd0c",
   "metadata": {},
   "outputs": [
    {
     "data": {
      "text/plain": [
       "RandomForestClassifier()"
      ]
     },
     "execution_count": 70,
     "metadata": {},
     "output_type": "execute_result"
    }
   ],
   "source": [
    "## Doing model selection for Random Forest with parameter tunning and variable selection\n",
    "X_trainV2 = X_train.drop(columns=[\"IS_hash\"])\n",
    "X_testV2 = X_test.drop(columns=[\"IS_hash\"])\n",
    "rf2 = RandomForestClassifier()\n",
    "rf2.fit(X_trainV2,y_train)"
   ]
  },
  {
   "cell_type": "code",
   "execution_count": 71,
   "id": "eac96d98",
   "metadata": {},
   "outputs": [],
   "source": [
    "rf_predV2 = rf2.predict(X_testV2)"
   ]
  },
  {
   "cell_type": "code",
   "execution_count": 73,
   "id": "dd12700d",
   "metadata": {},
   "outputs": [
    {
     "name": "stdout",
     "output_type": "stream",
     "text": [
      "RFV2 Accuracy:  0.8793365024780014\n",
      "              precision    recall  f1-score   support\n",
      "\n",
      "           0       0.92      0.90      0.91     20260\n",
      "           1       0.79      0.84      0.82      9401\n",
      "\n",
      "    accuracy                           0.88     29661\n",
      "   macro avg       0.86      0.87      0.86     29661\n",
      "weighted avg       0.88      0.88      0.88     29661\n",
      "\n",
      "[[18154  2106]\n",
      " [ 1473  7928]]\n"
     ]
    }
   ],
   "source": [
    "print(\"RFV2 Accuracy: \",accuracy_score(y_test,rf_predV2))\n",
    "print(classification_report(y_test,rf_predV2))\n",
    "print(confusion_matrix(y_test,rf_predV2))"
   ]
  },
  {
   "cell_type": "code",
   "execution_count": 76,
   "id": "fe2aaad0",
   "metadata": {},
   "outputs": [],
   "source": [
    "## performing hyper parameter tunning \n",
    "n_estimators = [100,200,300,500,1000]\n",
    "criterion = ['gini','entropy']\n",
    "max_features = [\"auto\", \"sqrt\", \"log2\"]\n",
    "max_depth = [10,20,30,None]\n",
    "min_samples_split= [2,3,5]\n",
    "min_samples_leaf=[1,2,3,4,5]\n",
    "\n",
    "grid = {'n_estimators' : n_estimators,\n",
    "        'criterion' : criterion,\n",
    "       'max_features':max_features,\n",
    "        'max_depth': max_depth,\n",
    "        'min_samples_split':min_samples_split,\n",
    "        'min_samples_leaf': min_samples_leaf }\n"
   ]
  },
  {
   "cell_type": "code",
   "execution_count": 78,
   "id": "c1818831",
   "metadata": {},
   "outputs": [],
   "source": [
    "from sklearn.model_selection import RandomizedSearchCV\n",
    "\n",
    "rf_grid = RandomForestClassifier()\n",
    "rf_grid_model = RandomizedSearchCV(estimator=rf_grid,param_distributions=grid,\n",
    "                              n_iter= 10, cv=10,verbose=2,random_state= 42,n_jobs=-1)"
   ]
  },
  {
   "cell_type": "code",
   "execution_count": 80,
   "id": "146ed507",
   "metadata": {},
   "outputs": [
    {
     "name": "stdout",
     "output_type": "stream",
     "text": [
      "Fitting 10 folds for each of 10 candidates, totalling 100 fits\n"
     ]
    },
    {
     "data": {
      "text/plain": [
       "RandomizedSearchCV(cv=10, estimator=RandomForestClassifier(), n_jobs=-1,\n",
       "                   param_distributions={'criterion': ['gini', 'entropy'],\n",
       "                                        'max_depth': [10, 20, 30, None],\n",
       "                                        'max_features': ['auto', 'sqrt',\n",
       "                                                         'log2'],\n",
       "                                        'min_samples_leaf': [1, 2, 3, 4, 5],\n",
       "                                        'min_samples_split': [2, 3, 5],\n",
       "                                        'n_estimators': [100, 200, 300, 500,\n",
       "                                                         1000]},\n",
       "                   random_state=42, verbose=2)"
      ]
     },
     "execution_count": 80,
     "metadata": {},
     "output_type": "execute_result"
    }
   ],
   "source": [
    "rf_grid_model.fit(X_trainV2,y_train)"
   ]
  },
  {
   "cell_type": "code",
   "execution_count": 81,
   "id": "73a3b1b8",
   "metadata": {},
   "outputs": [
    {
     "data": {
      "text/plain": [
       "{'n_estimators': 200,\n",
       " 'min_samples_split': 2,\n",
       " 'min_samples_leaf': 1,\n",
       " 'max_features': 'auto',\n",
       " 'max_depth': 20,\n",
       " 'criterion': 'entropy'}"
      ]
     },
     "execution_count": 81,
     "metadata": {},
     "output_type": "execute_result"
    }
   ],
   "source": [
    "rf_grid_model.best_params_"
   ]
  },
  {
   "cell_type": "code",
   "execution_count": 82,
   "id": "e9d2163f",
   "metadata": {},
   "outputs": [],
   "source": [
    "rf_opt = rf_grid_model.predict(X_testV2)"
   ]
  },
  {
   "cell_type": "code",
   "execution_count": 83,
   "id": "72c72ca7",
   "metadata": {},
   "outputs": [
    {
     "name": "stdout",
     "output_type": "stream",
     "text": [
      "RF opt Accuracy:  0.8794713596979198\n",
      "              precision    recall  f1-score   support\n",
      "\n",
      "           0       0.92      0.90      0.91     20260\n",
      "           1       0.79      0.84      0.82      9401\n",
      "\n",
      "    accuracy                           0.88     29661\n",
      "   macro avg       0.86      0.87      0.86     29661\n",
      "weighted avg       0.88      0.88      0.88     29661\n",
      "\n",
      "[[18194  2066]\n",
      " [ 1509  7892]]\n"
     ]
    }
   ],
   "source": [
    "print(\"RF opt Accuracy: \",accuracy_score(y_test,rf_opt))\n",
    "print(classification_report(y_test,rf_opt))\n",
    "print(confusion_matrix(y_test,rf_opt))"
   ]
  },
  {
   "cell_type": "code",
   "execution_count": 84,
   "id": "2be155e9",
   "metadata": {},
   "outputs": [],
   "source": [
    "rf_final = RandomForestClassifier(n_estimators=200, min_samples_split=2, min_samples_leaf=1,max_depth=20,criterion='entropy')"
   ]
  },
  {
   "cell_type": "code",
   "execution_count": 85,
   "id": "54048106",
   "metadata": {},
   "outputs": [
    {
     "data": {
      "text/plain": [
       "RandomForestClassifier(criterion='entropy', max_depth=20, n_estimators=200)"
      ]
     },
     "execution_count": 85,
     "metadata": {},
     "output_type": "execute_result"
    }
   ],
   "source": [
    "rf_final.fit(X_trainV2,y_train)"
   ]
  },
  {
   "cell_type": "code",
   "execution_count": 87,
   "id": "2c92cc9a",
   "metadata": {},
   "outputs": [],
   "source": [
    "## Storing for deployement\n",
    "import pickle\n",
    "file = open(\"./Url_spam_model.pkl\",\"wb\")\n",
    "\n",
    "pickle.dump(rf_final,file)\n",
    "file.close()\n"
   ]
  },
  {
   "cell_type": "code",
   "execution_count": null,
   "id": "2315c75b",
   "metadata": {},
   "outputs": [],
   "source": [
    "## Data for feature importances\n",
    "sns.barplot(x=X_trainV2.columns,y=rf.feature_importances_)"
   ]
  }
 ],
 "metadata": {
  "kernelspec": {
   "display_name": "Python 3 (ipykernel)",
   "language": "python",
   "name": "python3"
  },
  "language_info": {
   "codemirror_mode": {
    "name": "ipython",
    "version": 3
   },
   "file_extension": ".py",
   "mimetype": "text/x-python",
   "name": "python",
   "nbconvert_exporter": "python",
   "pygments_lexer": "ipython3",
   "version": "3.9.7"
  }
 },
 "nbformat": 4,
 "nbformat_minor": 5
}
